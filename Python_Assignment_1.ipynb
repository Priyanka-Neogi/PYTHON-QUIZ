{
 "cells": [
  {
   "cell_type": "markdown",
   "id": "6d580288",
   "metadata": {},
   "source": [
    "# Q1 - In the below elements which of them are values or an expression? eg:- values can be integer or string and expressions will be mathematical operators.\n",
    "\n",
    "'*'\n",
    "\n",
    "'hello'\n",
    "\n",
    "-87.8\n",
    "\n",
    "- \n",
    "\n",
    "/\n",
    "\n",
    "'+'\n",
    "\n",
    "6 \n"
   ]
  },
  {
   "cell_type": "markdown",
   "id": "92889430",
   "metadata": {},
   "source": [
    "\n",
    "\n",
    "* Value - Number(either 'integer' or 'float') or any 'string'\n",
    "\n",
    "* Expression - It is mathematical operators. A combination of operands and operators is called an expression. The expression in Python produces some value or result after being interpreted by the Python interpreter.\n",
    "\n",
    "##### *  ->  Expression\n",
    "\n",
    "'hello'  ->  Value (String)\n",
    "\n",
    "-87.8  ->  Value (Float)\n",
    "\n",
    "**-**  ->  Expression (subtraction)\n",
    "\n",
    "/  ->  Expression (division)\n",
    "\n",
    "**+**  ->  Expression (addition)\n",
    "\n",
    "6  ->  Value (integer)\n"
   ]
  },
  {
   "cell_type": "markdown",
   "id": "a64bee6e",
   "metadata": {},
   "source": [
    "# Q2 -  What is the difference between string and variable?"
   ]
  },
  {
   "cell_type": "markdown",
   "id": "c741fdac",
   "metadata": {},
   "source": [
    "### Variable\n",
    "\n",
    "It is a container to store value. Memory is used to save the variable.\n",
    "\n",
    "Eg -> a = 10\n",
    "\n",
    "Here 'a' is a variable to store the value 10.\n"
   ]
  },
  {
   "cell_type": "markdown",
   "id": "f8ec30d5",
   "metadata": {},
   "source": [
    "### String\n",
    "\n",
    "* String is a datatype in python.\n",
    "* String is a sequence of characters. \n",
    "* Characters can be\n",
    "    - Alphabets(A-Z) and (a-z)\n",
    "    - Digits (0-9)\n",
    "    - White space(space)\n",
    "    - Special Characters(#,@,...)\n",
    "\n",
    "* They can be defined using single , double or triple quotes\n",
    "\n",
    "Eg -> str1 = 'Priyanka@08'\n",
    "\n",
    "Here 'Priyanka@08' is a string"
   ]
  },
  {
   "cell_type": "code",
   "execution_count": 1,
   "id": "8f425160",
   "metadata": {},
   "outputs": [
    {
     "name": "stdout",
     "output_type": "stream",
     "text": [
      "<class 'str'>\n"
     ]
    }
   ],
   "source": [
    "str1 = 'Priyanka@08'\n",
    "print(type(str1))"
   ]
  },
  {
   "cell_type": "markdown",
   "id": "8bcd657e",
   "metadata": {},
   "source": [
    "# Q3 - Describe three different data types?"
   ]
  },
  {
   "cell_type": "markdown",
   "id": "d8401d8c",
   "metadata": {},
   "source": [
    "### Three different types of datatypes:\n",
    "\n",
    "1. Lists:\n",
    "\n",
    "* It is an ordered collection of data. \n",
    "* It is mutable type of datastructure.\n",
    "* It can contain multiple type of datatypes inside it. \n",
    "* It is declared inside square brackets[ ].\n",
    "\n",
    "Eg-\n"
   ]
  },
  {
   "cell_type": "code",
   "execution_count": 2,
   "id": "5b9e9bf0",
   "metadata": {},
   "outputs": [
    {
     "name": "stdout",
     "output_type": "stream",
     "text": [
      "[1, 2, 'Tom', [4, 5]]\n"
     ]
    }
   ],
   "source": [
    "list1 = [1, 2, 'Tom', [4, 5]]\n",
    "print(list1)"
   ]
  },
  {
   "cell_type": "markdown",
   "id": "fe7b522c",
   "metadata": {},
   "source": [
    "2. Tuples:\n",
    "\n",
    "* It is an ordered collection of data.\n",
    "* It is immutable type of datastructure.\n",
    "* It can contain multiple type of datatypes inside it.\n",
    "* It is declared inside round brackets().\n",
    "\n",
    "Eg-"
   ]
  },
  {
   "cell_type": "code",
   "execution_count": 3,
   "id": "0e215ad6",
   "metadata": {},
   "outputs": [
    {
     "name": "stdout",
     "output_type": "stream",
     "text": [
      "(1, 2, 'Tom', [4, 5])\n"
     ]
    }
   ],
   "source": [
    "tup1 = (1, 2, 'Tom', [4, 5])\n",
    "print(tup1)"
   ]
  },
  {
   "cell_type": "markdown",
   "id": "48bfdaf3",
   "metadata": {},
   "source": [
    "3. Dictionary:\n",
    "\n",
    "* It has key value pair form of data.\n",
    "* It doesnot support indexing.\n",
    "* Value can be accessed using key in a dictionary.\n",
    "* It is declared inside curly braces{ } with it's key value pair.\n",
    "\n",
    "Eg -\n"
   ]
  },
  {
   "cell_type": "code",
   "execution_count": 4,
   "id": "ce180c1d",
   "metadata": {},
   "outputs": [
    {
     "name": "stdout",
     "output_type": "stream",
     "text": [
      "{'Name': 'Tom', 'Subject': 'English', 'Marks': 90}\n"
     ]
    }
   ],
   "source": [
    "dict1 = {'Name': 'Tom', 'Subject': 'English', 'Marks': 90}\n",
    "print(dict1)"
   ]
  },
  {
   "cell_type": "markdown",
   "id": "e9e32e06",
   "metadata": {},
   "source": [
    "# Q4 - What is an expression made up of? What do all expressions do?"
   ]
  },
  {
   "cell_type": "markdown",
   "id": "916c2b56",
   "metadata": {},
   "source": [
    "* It is a combination of 'operands' and 'operators' .\n",
    "* This combination produces another result after being interpreted by python interpreter.\n",
    "* An expression in Python can contain identifiers, operators, and operands\n",
    "* Operators follow precedence order. If the expression contains multiple operators then the precedence order is followed.\n",
    "\n",
    "Eg-\n"
   ]
  },
  {
   "cell_type": "code",
   "execution_count": 5,
   "id": "35bdcc51",
   "metadata": {
    "scrolled": true
   },
   "outputs": [
    {
     "name": "stdout",
     "output_type": "stream",
     "text": [
      "35\n"
     ]
    }
   ],
   "source": [
    "x = 25          # a statement\n",
    "x = x + 10      # an expression\n",
    "\n",
    "print(x)"
   ]
  },
  {
   "cell_type": "markdown",
   "id": "475d0498",
   "metadata": {},
   "source": [
    "# Q5 This assignment statements, like spam = 10. What is the difference between an expression and a statement?"
   ]
  },
  {
   "cell_type": "markdown",
   "id": "6002d1d4",
   "metadata": {},
   "source": [
    "* A statement is used for - \n",
    "1. Creating variables\n",
    "2. Displaying values\n",
    "* A statement may not be evaluated for some results.\n",
    "\n",
    "Eg - "
   ]
  },
  {
   "cell_type": "code",
   "execution_count": 9,
   "id": "c0c5a1eb",
   "metadata": {},
   "outputs": [
    {
     "name": "stdout",
     "output_type": "stream",
     "text": [
      "10\n",
      "Tom\n"
     ]
    }
   ],
   "source": [
    "spam = 10      # a statement\n",
    "\n",
    "print(spam)    # a statement\n",
    "print('Tom')   # a statement"
   ]
  },
  {
   "cell_type": "markdown",
   "id": "0e07af68",
   "metadata": {},
   "source": [
    "## Expression v/s Statement\n",
    "\n",
    "### Expression\n",
    "\n",
    "* An expression evaluates to a value.\n",
    "* Evaluation of an expression always Produces or returns a result value.\n",
    "* Every expression can’t be a statement.\n",
    "* Expressions are unique in meaning, while statements are two-sided in execution.\n",
    "\n",
    "Eg - \n",
    "\n",
    "\n"
   ]
  },
  {
   "cell_type": "code",
   "execution_count": 2,
   "id": "e52575d3",
   "metadata": {
    "scrolled": true
   },
   "outputs": [
    {
     "name": "stdout",
     "output_type": "stream",
     "text": [
      "13\n"
     ]
    }
   ],
   "source": [
    "a = 3\n",
    "a = a + 10\n",
    "print(a)"
   ]
  },
  {
   "cell_type": "markdown",
   "id": "9236351f",
   "metadata": {},
   "source": [
    "### Statement\n",
    "\n",
    "* A statement executes something.\n",
    "* Execution of a statement may or may not produces or displays a result value, it only does whatever the statement says.\n",
    "* Every statement can be an expression.\n",
    "* Statements create side effects to be useful, while expressions are values or execute to values.\n",
    "\n",
    "Eg-\n",
    "\n"
   ]
  },
  {
   "cell_type": "code",
   "execution_count": 3,
   "id": "8ffb95d8",
   "metadata": {},
   "outputs": [
    {
     "name": "stdout",
     "output_type": "stream",
     "text": [
      "3\n"
     ]
    }
   ],
   "source": [
    "x = 3 \n",
    "print(x)"
   ]
  },
  {
   "cell_type": "markdown",
   "id": "6360850c",
   "metadata": {},
   "source": [
    "# Q6 After running the following code, what does the variable bacon contain?bacon = 22       bacon + 1\n"
   ]
  },
  {
   "cell_type": "code",
   "execution_count": 7,
   "id": "c9d310f1",
   "metadata": {},
   "outputs": [
    {
     "name": "stdout",
     "output_type": "stream",
     "text": [
      "22\n"
     ]
    }
   ],
   "source": [
    "bacon = 22\n",
    "bacon + 1\n",
    "print(bacon)"
   ]
  },
  {
   "cell_type": "markdown",
   "id": "eeed5b4c",
   "metadata": {},
   "source": [
    "* Variable bacon will contain '22' as it's value because variable is not assigned with the update. Hence it will not be updated and not stored in the memory. "
   ]
  },
  {
   "cell_type": "markdown",
   "id": "96679878",
   "metadata": {},
   "source": [
    "# Q7 What should the values of the following two terms be?('spam' + 'spamspam'),('spam' * 3)\n"
   ]
  },
  {
   "cell_type": "code",
   "execution_count": 8,
   "id": "272deced",
   "metadata": {},
   "outputs": [
    {
     "name": "stdout",
     "output_type": "stream",
     "text": [
      "spamspamspam\n"
     ]
    }
   ],
   "source": [
    "print('spam' + 'spamspam')"
   ]
  },
  {
   "cell_type": "code",
   "execution_count": 9,
   "id": "29a189c8",
   "metadata": {},
   "outputs": [
    {
     "name": "stdout",
     "output_type": "stream",
     "text": [
      "spamspamspam\n"
     ]
    }
   ],
   "source": [
    "print('spam' * 3)"
   ]
  },
  {
   "cell_type": "markdown",
   "id": "8f6c71f5",
   "metadata": {},
   "source": [
    "# Q8 Why is eggs a valid variable name while 100 is invalid?"
   ]
  },
  {
   "cell_type": "markdown",
   "id": "d782a595",
   "metadata": {},
   "source": [
    "* For creating a variable it is a rule that variable name can be made with 'string' character or combination of first 'string' and then 'number'.\n",
    "* A variable name can't start with a number or will consist of only numbers. \n",
    "\n",
    "\"100\" is invalid as a variable name because it starts with a digit. "
   ]
  },
  {
   "cell_type": "markdown",
   "id": "b44411bf",
   "metadata": {},
   "source": [
    "# Q9 What three functions can be used to get the integer, floating-point number, or string version of a value?"
   ]
  },
  {
   "cell_type": "markdown",
   "id": "293912a2",
   "metadata": {},
   "source": [
    "* int(): This function is used to convert a value to an integer.\n"
   ]
  },
  {
   "cell_type": "code",
   "execution_count": 17,
   "id": "252ffc8a",
   "metadata": {},
   "outputs": [
    {
     "name": "stdout",
     "output_type": "stream",
     "text": [
      "3\n",
      "<class 'int'>\n"
     ]
    }
   ],
   "source": [
    "num = int(3.14)\n",
    "print(num) \n",
    "print(type(num))"
   ]
  },
  {
   "cell_type": "markdown",
   "id": "e5d29dfb",
   "metadata": {},
   "source": [
    "* float(): This function is used to convert a value to a floating-point number."
   ]
  },
  {
   "cell_type": "code",
   "execution_count": 16,
   "id": "ee70b1c3",
   "metadata": {},
   "outputs": [
    {
     "name": "stdout",
     "output_type": "stream",
     "text": [
      "42.0\n",
      "<class 'float'>\n"
     ]
    }
   ],
   "source": [
    "num = float(42)\n",
    "print(num)\n",
    "print(type(num))"
   ]
  },
  {
   "cell_type": "markdown",
   "id": "75ed1e8b",
   "metadata": {},
   "source": [
    "* str(): This function is used to convert a value to a string representation."
   ]
  },
  {
   "cell_type": "code",
   "execution_count": 15,
   "id": "e01ffb62",
   "metadata": {},
   "outputs": [
    {
     "name": "stdout",
     "output_type": "stream",
     "text": [
      "42\n",
      "<class 'str'>\n"
     ]
    }
   ],
   "source": [
    "text = str(42)\n",
    "print(text)\n",
    "print(type(text))"
   ]
  },
  {
   "cell_type": "markdown",
   "id": "b6b0f277",
   "metadata": {},
   "source": [
    "# Q10 Why does this expression cause an error? How can you fix it? 'I have eaten ' + 99 + ' burritos.'\n"
   ]
  },
  {
   "cell_type": "markdown",
   "id": "d9d23578",
   "metadata": {},
   "source": [
    "* 'I have eaten ' + 99 + ' burritos.' -> This causes error because Concatenation is possible only in between strings."
   ]
  },
  {
   "cell_type": "markdown",
   "id": "0c12000d",
   "metadata": {},
   "source": [
    "* To fix the error the number requires to be changed to type string.\n",
    "99 is changed to string by putting quotes."
   ]
  },
  {
   "cell_type": "code",
   "execution_count": 20,
   "id": "8fd6c950",
   "metadata": {},
   "outputs": [
    {
     "data": {
      "text/plain": [
       "'I have eaten 99 burritos.'"
      ]
     },
     "execution_count": 20,
     "metadata": {},
     "output_type": "execute_result"
    }
   ],
   "source": [
    "'I have eaten ' + '99' + ' burritos.'"
   ]
  },
  {
   "cell_type": "code",
   "execution_count": null,
   "id": "906e829e",
   "metadata": {},
   "outputs": [],
   "source": []
  }
 ],
 "metadata": {
  "kernelspec": {
   "display_name": "Python 3 (ipykernel)",
   "language": "python",
   "name": "python3"
  },
  "language_info": {
   "codemirror_mode": {
    "name": "ipython",
    "version": 3
   },
   "file_extension": ".py",
   "mimetype": "text/x-python",
   "name": "python",
   "nbconvert_exporter": "python",
   "pygments_lexer": "ipython3",
   "version": "3.10.9"
  }
 },
 "nbformat": 4,
 "nbformat_minor": 5
}
