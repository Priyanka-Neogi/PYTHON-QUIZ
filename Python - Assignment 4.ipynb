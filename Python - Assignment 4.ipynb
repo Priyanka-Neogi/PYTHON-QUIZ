{
 "cells": [
  {
   "cell_type": "markdown",
   "id": "bc394969",
   "metadata": {},
   "source": [
    "# Q1. What exactly is [ ]?"
   ]
  },
  {
   "cell_type": "markdown",
   "id": "5a38a1f4",
   "metadata": {},
   "source": [
    "[ ] \n",
    "- Represents an empty list, it doesnot contain any values.\n",
    "- built in data structure in python to create list using square brackets, it belongs to datatype - 'list' class.\n",
    "- if assigned to a variable, acts as a placeholder, which can be used to intialize empty list for further operations.\n",
    "\n",
    "Eg-\n",
    "\n"
   ]
  },
  {
   "cell_type": "code",
   "execution_count": 1,
   "id": "da924946",
   "metadata": {},
   "outputs": [
    {
     "name": "stdout",
     "output_type": "stream",
     "text": [
      "<class 'list'>\n"
     ]
    }
   ],
   "source": [
    "lst = []\n",
    "print(type(lst))"
   ]
  },
  {
   "cell_type": "markdown",
   "id": "a1b16fa3",
   "metadata": {},
   "source": [
    "# Q2. In a list of values stored in a variable called spam, how would you assign the value 'hello' as the third value? (Assume [2, 4, 6, 8, 10] are in spam.)"
   ]
  },
  {
   "cell_type": "code",
   "execution_count": 2,
   "id": "66762fac",
   "metadata": {},
   "outputs": [
    {
     "name": "stdout",
     "output_type": "stream",
     "text": [
      "[2, 4, 6, 8, 10]\n"
     ]
    }
   ],
   "source": [
    "# spam is a variable contains list\n",
    "spam=[2,4,6,8,10]\n",
    "print(spam)"
   ]
  },
  {
   "cell_type": "code",
   "execution_count": 3,
   "id": "bb56306a",
   "metadata": {},
   "outputs": [
    {
     "name": "stdout",
     "output_type": "stream",
     "text": [
      "[2, 4, 'hello', 8, 10]\n"
     ]
    }
   ],
   "source": [
    "# Assigning the value 'hello' as the third value\n",
    "spam[2] = 'hello'\n",
    "print(spam)"
   ]
  },
  {
   "cell_type": "markdown",
   "id": "0d2613dd",
   "metadata": {},
   "source": [
    "# Let's pretend the spam includes the list ['a', 'b', 'c', 'd'] for the next three queries"
   ]
  },
  {
   "cell_type": "markdown",
   "id": "272053b8",
   "metadata": {},
   "source": [
    "# Q3. What is the value of spam[int(int('3' * 2) / 11)]?"
   ]
  },
  {
   "cell_type": "code",
   "execution_count": 5,
   "id": "7b6fa042",
   "metadata": {
    "scrolled": true
   },
   "outputs": [
    {
     "name": "stdout",
     "output_type": "stream",
     "text": [
      "d\n"
     ]
    }
   ],
   "source": [
    "spam=['a', 'b', 'c', 'd']\n",
    "print(spam[int(int('3' * 2) / 11)])"
   ]
  },
  {
   "cell_type": "markdown",
   "id": "a29cfb14",
   "metadata": {},
   "source": [
    "### Explanation -"
   ]
  },
  {
   "cell_type": "code",
   "execution_count": 6,
   "id": "d2514c75",
   "metadata": {},
   "outputs": [
    {
     "data": {
      "text/plain": [
       "'33'"
      ]
     },
     "execution_count": 6,
     "metadata": {},
     "output_type": "execute_result"
    }
   ],
   "source": [
    "'3' * 2"
   ]
  },
  {
   "cell_type": "markdown",
   "id": "8e72b6ce",
   "metadata": {},
   "source": [
    "It concatenates the string '3'. In concatenates string twice."
   ]
  },
  {
   "cell_type": "code",
   "execution_count": 7,
   "id": "32b5e7b6",
   "metadata": {},
   "outputs": [
    {
     "name": "stdout",
     "output_type": "stream",
     "text": [
      "33\n"
     ]
    },
    {
     "data": {
      "text/plain": [
       "int"
      ]
     },
     "execution_count": 7,
     "metadata": {},
     "output_type": "execute_result"
    }
   ],
   "source": [
    "print(int('3' * 2))\n",
    "type(int('3' * 2))"
   ]
  },
  {
   "cell_type": "markdown",
   "id": "0aa0852d",
   "metadata": {},
   "source": [
    "The 'string' datatype '33' is converted to 'int'"
   ]
  },
  {
   "cell_type": "code",
   "execution_count": 8,
   "id": "841139ed",
   "metadata": {},
   "outputs": [
    {
     "name": "stdout",
     "output_type": "stream",
     "text": [
      "3.0\n",
      "3\n"
     ]
    }
   ],
   "source": [
    "print(33/11)\n",
    "print(int(33/11))"
   ]
  },
  {
   "cell_type": "markdown",
   "id": "007a4f5b",
   "metadata": {},
   "source": [
    "Performs division of int by int. the resultant is converted to 'int'"
   ]
  },
  {
   "cell_type": "code",
   "execution_count": 9,
   "id": "8b5b2dac",
   "metadata": {},
   "outputs": [
    {
     "data": {
      "text/plain": [
       "'d'"
      ]
     },
     "execution_count": 9,
     "metadata": {},
     "output_type": "execute_result"
    }
   ],
   "source": [
    "spam[3]"
   ]
  },
  {
   "cell_type": "markdown",
   "id": "b05376f9",
   "metadata": {},
   "source": [
    "spam[3] - returns the value at index 3 in the list , which is 'd'."
   ]
  },
  {
   "cell_type": "markdown",
   "id": "6890fe64",
   "metadata": {},
   "source": [
    "# Q4. What is the value of spam[-1]?"
   ]
  },
  {
   "cell_type": "markdown",
   "id": "14381bd6",
   "metadata": {},
   "source": [
    "* spam[-1] is using negative indexing. It will pick up the last value from the list i.e. 'd'."
   ]
  },
  {
   "cell_type": "code",
   "execution_count": 10,
   "id": "9930a4a9",
   "metadata": {},
   "outputs": [
    {
     "name": "stdout",
     "output_type": "stream",
     "text": [
      "d\n"
     ]
    }
   ],
   "source": [
    "print(spam[-1])"
   ]
  },
  {
   "cell_type": "markdown",
   "id": "f7ca10d8",
   "metadata": {},
   "source": [
    "# Q5. What is the value of spam[:2]?"
   ]
  },
  {
   "cell_type": "markdown",
   "id": "c77db83e",
   "metadata": {},
   "source": [
    "It is slicing by index. Slicing here will start from index '0' to index '1'. it does not take the last index. \n",
    "\n",
    "Output will be a list ['a', 'b']"
   ]
  },
  {
   "cell_type": "code",
   "execution_count": 11,
   "id": "570287a5",
   "metadata": {},
   "outputs": [
    {
     "name": "stdout",
     "output_type": "stream",
     "text": [
      "['a', 'b']\n"
     ]
    }
   ],
   "source": [
    "print(spam[:2])"
   ]
  },
  {
   "cell_type": "markdown",
   "id": "4e83611d",
   "metadata": {},
   "source": [
    "# Let's pretend bacon has the list [3.14, 'cat,' 11, 'cat,' True] for the next three questions."
   ]
  },
  {
   "cell_type": "markdown",
   "id": "31fdf111",
   "metadata": {},
   "source": [
    "# Q6. What is the value of bacon.index('cat')?"
   ]
  },
  {
   "cell_type": "code",
   "execution_count": 12,
   "id": "bcc075d5",
   "metadata": {},
   "outputs": [],
   "source": [
    "bacon=[3.14, 'cat', 11, 'cat', True]"
   ]
  },
  {
   "cell_type": "markdown",
   "id": "07bf3d11",
   "metadata": {},
   "source": [
    "list.index('value') - will print the index of the 'value' present inside the list. \n",
    "\n",
    "If a particular 'value' appears multiple times in a list, will take the index of first occurrence of that 'value'."
   ]
  },
  {
   "cell_type": "code",
   "execution_count": 13,
   "id": "76ba475b",
   "metadata": {},
   "outputs": [
    {
     "name": "stdout",
     "output_type": "stream",
     "text": [
      "1\n"
     ]
    }
   ],
   "source": [
    "print(bacon.index('cat'))"
   ]
  },
  {
   "cell_type": "markdown",
   "id": "32d7500d",
   "metadata": {},
   "source": [
    "# Q7. How does bacon.append(99) change the look of the list value in bacon?"
   ]
  },
  {
   "cell_type": "markdown",
   "id": "6c4e21fa",
   "metadata": {},
   "source": [
    "'append' method adds the element at the end of the list."
   ]
  },
  {
   "cell_type": "code",
   "execution_count": 14,
   "id": "b3a1df48",
   "metadata": {},
   "outputs": [
    {
     "name": "stdout",
     "output_type": "stream",
     "text": [
      "[3.14, 'cat', 11, 'cat', True, 99]\n"
     ]
    }
   ],
   "source": [
    "bacon.append(99)\n",
    "print(bacon)"
   ]
  },
  {
   "cell_type": "markdown",
   "id": "1d6d19af",
   "metadata": {},
   "source": [
    "# Q8. How does bacon.remove('cat') change the look of the list in bacon?"
   ]
  },
  {
   "cell_type": "markdown",
   "id": "4a413e6b",
   "metadata": {},
   "source": [
    "list.remove('value') \n",
    "\n",
    "- will remove the 'value' from the list.\n",
    "- If a particular 'value' appears multiple times in a list, will remove the 'value' at the first occurrence."
   ]
  },
  {
   "cell_type": "code",
   "execution_count": 15,
   "id": "178c0ba9",
   "metadata": {},
   "outputs": [
    {
     "name": "stdout",
     "output_type": "stream",
     "text": [
      "[3.14, 11, 'cat', True, 99]\n"
     ]
    }
   ],
   "source": [
    "bacon.remove('cat')\n",
    "print(bacon)"
   ]
  },
  {
   "cell_type": "markdown",
   "id": "dc19576e",
   "metadata": {},
   "source": [
    "# Q9. What are the list concatenation and list replication operators?"
   ]
  },
  {
   "cell_type": "markdown",
   "id": "98643b87",
   "metadata": {},
   "source": [
    "### List Concatenation Operator(+):\n",
    "\n",
    "* The '+' operator combines more than one list into a single list, resulting in a new list.\n",
    "* The new list after '+' operation(concatenation), it contains all the elements from all the lists.\n",
    "\n",
    "Eg-"
   ]
  },
  {
   "cell_type": "code",
   "execution_count": 16,
   "id": "2721bc0d",
   "metadata": {},
   "outputs": [
    {
     "name": "stdout",
     "output_type": "stream",
     "text": [
      "[1, 2, 3, 4, 5, 6, 1, 5, 7]\n"
     ]
    }
   ],
   "source": [
    "l1=[1,2,3]\n",
    "l2=[4,5,6] \n",
    "l3=[1,5,7]\n",
    "\n",
    "con_list=l1+l2+l3\n",
    "print(con_list)"
   ]
  },
  {
   "cell_type": "markdown",
   "id": "1cc3f603",
   "metadata": {},
   "source": [
    "### List Replication Operator(*):\n",
    "\n",
    "* Asterick operator replicates a list by a given number of times.\n",
    "* It creates a new list by repeating the elements of the list, after appltying the asterick operator. \n",
    "\n",
    "Eg-"
   ]
  },
  {
   "cell_type": "code",
   "execution_count": 17,
   "id": "c9de8c70",
   "metadata": {},
   "outputs": [
    {
     "name": "stdout",
     "output_type": "stream",
     "text": [
      "[9, 6, 8, 9, 6, 8, 9, 6, 8]\n"
     ]
    }
   ],
   "source": [
    "l4=[9,6,8]\n",
    "\n",
    "repl_list=l4*3\n",
    "print(repl_list)"
   ]
  },
  {
   "cell_type": "markdown",
   "id": "7cd18252",
   "metadata": {},
   "source": [
    "# Q10. What is difference between the list methods append() and insert()?"
   ]
  },
  {
   "cell_type": "markdown",
   "id": "d964a65d",
   "metadata": {},
   "source": [
    "### append()\n",
    "\n",
    "* This method adds element at the end of a list. \n",
    "* It takes single argument, the element to be added.\n",
    "\n",
    "Eg -"
   ]
  },
  {
   "cell_type": "code",
   "execution_count": 18,
   "id": "284723c9",
   "metadata": {},
   "outputs": [
    {
     "name": "stdout",
     "output_type": "stream",
     "text": [
      "[1, 2, 3, 4, 5]\n"
     ]
    }
   ],
   "source": [
    "lst=[1,2,3,4]\n",
    "lst.append(5)\n",
    "print(lst)"
   ]
  },
  {
   "cell_type": "markdown",
   "id": "ad94e597",
   "metadata": {},
   "source": [
    "### insert()\n",
    "\n",
    "* This method adds an element at a specific position in a list.\n",
    "* It takes two arguments - first is index at which 'value' will be inserted, second is the 'value'.\n",
    "* All the elemnts after the given index will be shifted to the right.\n",
    "\n",
    "Eg-"
   ]
  },
  {
   "cell_type": "code",
   "execution_count": 19,
   "id": "f1ea66ac",
   "metadata": {},
   "outputs": [
    {
     "name": "stdout",
     "output_type": "stream",
     "text": [
      "[1, 2, 'a', 3, 4]\n"
     ]
    }
   ],
   "source": [
    "lst1=[1,2,3,4]\n",
    "lst1.insert(2,'a')\n",
    "\n",
    "#value 'a' inserted at index 2 in the list\n",
    "print(lst1)"
   ]
  },
  {
   "cell_type": "markdown",
   "id": "91044f07",
   "metadata": {},
   "source": [
    "# Q11. What are the two methods for removing items from a list?"
   ]
  },
  {
   "cell_type": "markdown",
   "id": "ebf91280",
   "metadata": {},
   "source": [
    "### 1. remove()\n",
    "\n",
    "* This method is used to remove the specified element.\n",
    "* If there is multiple occurences of the specified element, then the first elemnt will be removed.\n",
    "* It removes a single element only.\n",
    "\n",
    "Eg -\n"
   ]
  },
  {
   "cell_type": "code",
   "execution_count": 20,
   "id": "2d1ecc68",
   "metadata": {},
   "outputs": [
    {
     "name": "stdout",
     "output_type": "stream",
     "text": [
      "previous list : [1, 2, 'a', 3, 4]\n",
      "List after removal : [1, 2, 3, 4]\n"
     ]
    }
   ],
   "source": [
    "print('previous list :', lst1)\n",
    "lst1.remove('a')\n",
    "print('List after removal :',lst1)"
   ]
  },
  {
   "cell_type": "markdown",
   "id": "614ef3a4",
   "metadata": {},
   "source": [
    "### 2. pop()\n",
    "\n",
    "* Removes an element from list based on the index.\n",
    "* Index argument is optional, the index of the element to removed.\n",
    "* If no index provided, by default pop() removes and returns the last element in the list.\n",
    "\n",
    "Eg-"
   ]
  },
  {
   "cell_type": "code",
   "execution_count": 21,
   "id": "d180d41b",
   "metadata": {},
   "outputs": [
    {
     "name": "stdout",
     "output_type": "stream",
     "text": [
      "Previous list : [1, 2, 3, 4]\n",
      "List after popping : [1, 2, 3]\n",
      "Popped element : 4\n"
     ]
    }
   ],
   "source": [
    "print('Previous list :', lst1)\n",
    "val=lst1.pop()   # popping list element by default\n",
    "print('List after popping :', lst1)\n",
    "print('Popped element :', val)"
   ]
  },
  {
   "cell_type": "code",
   "execution_count": 22,
   "id": "b6b66e13",
   "metadata": {},
   "outputs": [
    {
     "name": "stdout",
     "output_type": "stream",
     "text": [
      "Previous list : [1, 2, 3, 4, 5]\n",
      "List after popping : [1, 2, 4, 5]\n",
      "Popped element : 3\n"
     ]
    }
   ],
   "source": [
    "print('Previous list :', lst)\n",
    "val=lst.pop(2) # popping list element based on index\n",
    "print('List after popping :', lst)\n",
    "print('Popped element :', val)"
   ]
  },
  {
   "cell_type": "markdown",
   "id": "67ada0a8",
   "metadata": {},
   "source": [
    "# Q12. Describe how list values and string values are identical."
   ]
  },
  {
   "cell_type": "markdown",
   "id": "a7723513",
   "metadata": {},
   "source": [
    "### Identical list values and string values:\n"
   ]
  },
  {
   "cell_type": "markdown",
   "id": "0f76dfb6",
   "metadata": {},
   "source": [
    "1. Sequence of Elements: \n",
    "- String - Sequence of characters in quotes.\n",
    "- List - Sequence of homogeneous/ hetrogeneous values in list [].\n",
    "\n",
    "Eg - \n"
   ]
  },
  {
   "cell_type": "code",
   "execution_count": 23,
   "id": "51a7c2a1",
   "metadata": {},
   "outputs": [
    {
     "name": "stdout",
     "output_type": "stream",
     "text": [
      "Python is a programming language\n",
      "[1, 2, 'a', (3, 4), [7, 8]]\n"
     ]
    }
   ],
   "source": [
    "# string \n",
    "strng='Python is a programming language'\n",
    "print(strng)\n",
    "\n",
    "# list\n",
    "list1=[1,2,'a',(3,4),[7,8]]\n",
    "print(list1)"
   ]
  },
  {
   "cell_type": "markdown",
   "id": "62613429",
   "metadata": {},
   "source": [
    "2. Indexing: starts from '0'\n",
    "- String - chararacter can be accessed based on index.\n",
    "- List - Values can be accessed based on index."
   ]
  },
  {
   "cell_type": "code",
   "execution_count": 24,
   "id": "06b00149",
   "metadata": {},
   "outputs": [
    {
     "name": "stdout",
     "output_type": "stream",
     "text": [
      "o\n",
      "(3, 4)\n"
     ]
    }
   ],
   "source": [
    "#string\n",
    "print(strng[4])\n",
    "\n",
    "#list\n",
    "print(list1[3])"
   ]
  },
  {
   "cell_type": "markdown",
   "id": "dc81201e",
   "metadata": {},
   "source": [
    "3. Slicing:\n",
    " \n",
    "- Both list and string supports slicing by index. it extracts a portion of sequence. \n",
    "- It doesnot take the last index value if it is provided during slicing operation and includes the first index."
   ]
  },
  {
   "cell_type": "code",
   "execution_count": 25,
   "id": "b2da35e8",
   "metadata": {},
   "outputs": [
    {
     "name": "stdout",
     "output_type": "stream",
     "text": [
      "Python \n",
      "[2, 'a']\n"
     ]
    }
   ],
   "source": [
    "#string\n",
    "print(strng[0:7])\n",
    "\n",
    "#list\n",
    "print(list1[1:3])"
   ]
  },
  {
   "cell_type": "markdown",
   "id": "09f70a52",
   "metadata": {},
   "source": [
    "4. Iteration:\n",
    "- In list and string , we can iterate through the sequence of elements and characters."
   ]
  },
  {
   "cell_type": "code",
   "execution_count": 26,
   "id": "0ae3d063",
   "metadata": {},
   "outputs": [
    {
     "name": "stdout",
     "output_type": "stream",
     "text": [
      "P\n",
      "y\n",
      "t\n",
      "h\n",
      "o\n",
      "n\n",
      " \n",
      "i\n",
      "s\n",
      " \n",
      "a\n",
      " \n",
      "p\n",
      "r\n",
      "o\n",
      "g\n",
      "r\n",
      "a\n",
      "m\n",
      "m\n",
      "i\n",
      "n\n",
      "g\n",
      " \n",
      "l\n",
      "a\n",
      "n\n",
      "g\n",
      "u\n",
      "a\n",
      "g\n",
      "e\n",
      "-----------------------------------------------\n",
      "1\n",
      "2\n",
      "a\n",
      "(3, 4)\n",
      "[7, 8]\n"
     ]
    }
   ],
   "source": [
    "#String\n",
    "for i in strng:\n",
    "    print(i)\n",
    "\n",
    "print('-----------------------------------------------')\n",
    "#List\n",
    "for j in list1:\n",
    "    print(j)"
   ]
  },
  {
   "cell_type": "markdown",
   "id": "3afe8422",
   "metadata": {},
   "source": [
    "# Q13. What's the difference between tuples and lists?"
   ]
  },
  {
   "cell_type": "markdown",
   "id": "acb4ce1f",
   "metadata": {},
   "source": [
    "### List:\n",
    "\n",
    "1. Lists are mutable. It allows to add, remove, update the elements inside the list.\n",
    "2. List is created using square brackets[ ]. Elements  inside it are seperated by commas.\n",
    "3. Lists are used for situations where dynamic data manipulation of elements are required.\n",
    "4. List has larger built-in methods(eg-append,insert,pop, remove etc..).\n",
    "5. Operations Like concatenation and replication can be performed on lists as they are mutable.\n",
    "6. Lists can't be used as key in a dictionary due to it mutability."
   ]
  },
  {
   "cell_type": "markdown",
   "id": "84bfa18b",
   "metadata": {},
   "source": [
    "### Tuple:\n",
    "\n",
    "1. Tuples are immutable. Once created , it's elements can't be modified.\n",
    "2. Tuples are created using round brackets(). Elements in the tuples are seperated by the commas.\n",
    "3. Tuples represent immutability and hence holds the integrity of elements. Eg-coordinates representation.\n",
    "4. It is more memory efficient and faste to access as they have smaller memory footprint.\n",
    "5. It has few built in methods because they are immutable.\n",
    "6. It can be used as a key in dictionary as it is imutable.\n"
   ]
  },
  {
   "cell_type": "markdown",
   "id": "712ae524",
   "metadata": {},
   "source": [
    "# Q14. How do you type a tuple value that only contains the integer 42?"
   ]
  },
  {
   "cell_type": "code",
   "execution_count": 27,
   "id": "dff36c57",
   "metadata": {},
   "outputs": [
    {
     "name": "stdout",
     "output_type": "stream",
     "text": [
      "(42,)\n"
     ]
    }
   ],
   "source": [
    "tup=(42,)\n",
    "print(tup)"
   ]
  },
  {
   "cell_type": "markdown",
   "id": "1b680316",
   "metadata": {},
   "source": [
    "* ( ) round bracket is used to create tuple and ',' comma after 42  indicates that it is a tuple with single value."
   ]
  },
  {
   "cell_type": "markdown",
   "id": "f99ffb2b",
   "metadata": {},
   "source": [
    "# Q15. How do you get a list value's tuple form? How do you get a tuple value's list form?"
   ]
  },
  {
   "cell_type": "code",
   "execution_count": 28,
   "id": "58d0c6ee",
   "metadata": {},
   "outputs": [
    {
     "name": "stdout",
     "output_type": "stream",
     "text": [
      "list : [1, 2, 3, 4, 5]\n",
      "tuple :  (1, 2, 3, 4, 5)\n"
     ]
    }
   ],
   "source": [
    "# List value's tuple form\n",
    "lst_1=[1,2,3,4,5]\n",
    "print('list :',lst_1)\n",
    "\n",
    "#Using tuple keyword to convert the datatype into tuple\n",
    "tup1=tuple(lst_1)\n",
    "print('tuple : ',tup1)"
   ]
  },
  {
   "cell_type": "code",
   "execution_count": 29,
   "id": "bd9067c0",
   "metadata": {},
   "outputs": [
    {
     "name": "stdout",
     "output_type": "stream",
     "text": [
      "tuple :  (1, 2, 3, 4, 5)\n",
      "list : [1, 2, 3, 4, 5]\n"
     ]
    }
   ],
   "source": [
    "# Tuple value's list form\n",
    "tup2=(1,2,3,4,5)\n",
    "print('tuple : ',tup2)\n",
    "\n",
    "#Usinging list keyword to convert the datatype into list\n",
    "lst2=list(tup2)\n",
    "print('list :',lst2)"
   ]
  },
  {
   "cell_type": "markdown",
   "id": "d3b24b00",
   "metadata": {},
   "source": [
    "# Q16. Variables that \"contain\" list values are not necessarily lists themselves. Instead, what do they contain?"
   ]
  },
  {
   "cell_type": "code",
   "execution_count": 30,
   "id": "c8e19b1f",
   "metadata": {},
   "outputs": [],
   "source": [
    "list2=[1,2,3,4,5]"
   ]
  },
  {
   "cell_type": "markdown",
   "id": "b33edacf",
   "metadata": {},
   "source": [
    "* Here 'list2' contains list values, 'list2' is not necessary to be list itself. \n",
    "* Instead 'list2' contains the reference of the list objects.\n",
    "* In python, variables are used to store reference to the objects. It does not store the object itself directly.\n",
    "* this list'[1,2,3,4,5]' is assigned to the variable 'list2'. Here 'list2' holds a reference to the memory location   where this list object'[1,2,3,4,5]' is stored. The 'list2' is the pointer to the location of the list object'[1,2,3,4,5]' in memory.\n",
    "* **'list2' variable holds the reference to the list object'[1,2,3,4,5]'. 'list2' variable is not a list itself.**\n"
   ]
  },
  {
   "cell_type": "markdown",
   "id": "45746559",
   "metadata": {},
   "source": [
    "# Q17. How do you distinguish between copy.copy() and copy.deepcopy()?"
   ]
  },
  {
   "cell_type": "markdown",
   "id": "1ac0aa81",
   "metadata": {},
   "source": [
    "### copy.copy()\n",
    "\n",
    "* It creates a **shallow copy (a new object is created, but the contents of the object are references to the same element as the original object)** of an object.\n",
    "* If the original object contains\n",
    "    - mutable elements(eg-list, dictionary) - changes made to elements in the copied object will affect the original object and viceversa.\n",
    "    - immutable elements(eg-integers, strings) - the copied object will have its own seperate copy of these elements."
   ]
  },
  {
   "cell_type": "markdown",
   "id": "72dc72d6",
   "metadata": {},
   "source": [
    "### copy.deepcopy()\n",
    "* It creates a **deep copy(a new object is created with completely independent copies of all the objects recursively)** of an object.\n",
    "* The copied object have its own seperate copies of all elements for both mutable and immutable objects.\n",
    "* Any changes made to the elements in the copied object will not affect the original copy, vice versa.\n"
   ]
  },
  {
   "cell_type": "code",
   "execution_count": 31,
   "id": "641c18b2",
   "metadata": {},
   "outputs": [
    {
     "name": "stdout",
     "output_type": "stream",
     "text": [
      "[1, [20, 30], 4]\n",
      "[10, [20, 30], 4]\n",
      "[100, [200, 3], 4]\n"
     ]
    }
   ],
   "source": [
    "# importing copy module\n",
    "import copy\n",
    "\n",
    "original_list=[1,[2,3],4]\n",
    "\n",
    "#creating copy using copy.copy()\n",
    "shallow_copy=copy.copy(original_list)\n",
    "\n",
    "#creating copy using copy.deepcopy()\n",
    "deep_copy=copy.deepcopy(original_list)\n",
    "\n",
    "# Modify the elements in the copied lists\n",
    "\n",
    "# Shallow copy\n",
    "# In shallow_copy, changing the first element to 10 and the first element of the sublist to 20. \n",
    "# It affects the original list because it's a shallow copy. \n",
    "# Both the original list and the shallow copy share the same sublist.\n",
    "shallow_copy[0] = 10\n",
    "shallow_copy[1][0] = 20\n",
    "shallow_copy[1][1] = 30\n",
    "\n",
    "# Deep copy\n",
    "# In deep_copy, changing the first element to 100 and the first element of the sublist to 200.\n",
    "# It doesn't affect the original list because it's a deep copy. \n",
    "# The deep copy has independent copies of all elements.\n",
    "deep_copy[0] = 100\n",
    "deep_copy[1][0] = 200\n",
    "\n",
    "# Printing \n",
    "print(original_list)    \n",
    "print(shallow_copy)     \n",
    "print(deep_copy)        \n"
   ]
  },
  {
   "cell_type": "markdown",
   "id": "a97c4095",
   "metadata": {},
   "source": [
    "* The original list is modified when changing elements in the shallow copy because they refer to the same sublist.\n",
    "* Modifying elements in the deep copy doesn't affect the original list because the deep copy has independent copies of all elements."
   ]
  },
  {
   "cell_type": "code",
   "execution_count": null,
   "id": "7b8a6460",
   "metadata": {},
   "outputs": [],
   "source": []
  }
 ],
 "metadata": {
  "kernelspec": {
   "display_name": "Python 3 (ipykernel)",
   "language": "python",
   "name": "python3"
  },
  "language_info": {
   "codemirror_mode": {
    "name": "ipython",
    "version": 3
   },
   "file_extension": ".py",
   "mimetype": "text/x-python",
   "name": "python",
   "nbconvert_exporter": "python",
   "pygments_lexer": "ipython3",
   "version": "3.10.9"
  }
 },
 "nbformat": 4,
 "nbformat_minor": 5
}
