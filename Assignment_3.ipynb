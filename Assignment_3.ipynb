{
 "cells": [
  {
   "cell_type": "markdown",
   "id": "cf3a270b",
   "metadata": {},
   "source": [
    "# Q1 Why are functions advantageous to have in your programs?"
   ]
  },
  {
   "cell_type": "markdown",
   "id": "3d604a1c",
   "metadata": {},
   "source": [
    "* There are two types of functions:\n",
    "1. Built-in Functions: Python provides its own set of built-in functions.\n",
    "2. User Defined Functions: These functions are created by the user to fulfill specific logical requirements that are not already addressed by built-in functions.\n",
    "\n",
    "* **User Defined Functions offer several advantages:**\n",
    "1. Eliminates code duplication: There is no need to repeatedly write the same code and save time in writing same logic again.\n",
    "2. Reusability: The function can be called multiple times whenever it is needed.\n",
    "3. Enhances program traceability and readability: Breaking the large program into multiple functions makes it easier to follow and understand.\n",
    "4. Supports modularity in Python: Large portions of code can be divided into smaller, manageable pieces by creating functions, which act as named segments of code.\n",
    "5. Reduces redundancy: User Defined Functions help avoid repetition, minimizing redundant code.\n"
   ]
  },
  {
   "cell_type": "markdown",
   "id": "00e270fb",
   "metadata": {},
   "source": [
    "# Q2. When does the code in a function run: when it's specified or when it's called?"
   ]
  },
  {
   "cell_type": "markdown",
   "id": "510ac0f5",
   "metadata": {},
   "source": [
    "* The code in a function **executes** when the function is **called**. \n",
    "* The code in a function doesnot execute when the function is specified/declared.\n",
    "\n",
    "Eg - "
   ]
  },
  {
   "cell_type": "code",
   "execution_count": 1,
   "id": "c387d8ff",
   "metadata": {},
   "outputs": [],
   "source": [
    "# Creating a user defined function named as 'power'\n",
    "def power(a, b):\n",
    "    '''The function takes :\n",
    "    a - first input as the number \n",
    "    b - second input as the power of the first number.\n",
    "    Output - a number with computed value of a to the power b '''\n",
    "    \n",
    "    # computing the logic of power \n",
    "    out = a ** b\n",
    "    \n",
    "    #returning the computed valued\n",
    "    return(out)"
   ]
  },
  {
   "cell_type": "markdown",
   "id": "b73a4a33",
   "metadata": {},
   "source": [
    "* The function is executed when it is **called** now."
   ]
  },
  {
   "cell_type": "code",
   "execution_count": 2,
   "id": "948fb4a7",
   "metadata": {},
   "outputs": [
    {
     "data": {
      "text/plain": [
       "32"
      ]
     },
     "execution_count": 2,
     "metadata": {},
     "output_type": "execute_result"
    }
   ],
   "source": [
    "power(2,5)"
   ]
  },
  {
   "cell_type": "markdown",
   "id": "bc658ed8",
   "metadata": {},
   "source": [
    "# Q3. What statement creates a function?"
   ]
  },
  {
   "cell_type": "markdown",
   "id": "71a787cc",
   "metadata": {},
   "source": [
    "1. **def** - The keyword \"def\" is utilized in Python to create a user-defined function.\n",
    "2. **space** - After the keyword \"def,\" a space is inserted.\n",
    "3. **function_name** - Following the space, a suitable function name is chosen, adhering to the logic.\n",
    "4. **parenthesis** - A pair of parentheses is placed after the function name, indicating that arguments can be passed within them, or left empty.\n",
    "5. **semicolon** - After step4, put colon ':' .The beginning of the code block is marked by a colon \":\" \n",
    "\n",
    "Eg- "
   ]
  },
  {
   "cell_type": "code",
   "execution_count": 3,
   "id": "8c3fcff9",
   "metadata": {},
   "outputs": [],
   "source": [
    "# Creating a user defined function named as 'cube'\n",
    "def cube(a):\n",
    "    '''The function takes :\n",
    "    a - first input as the number \n",
    "    Output - cube value computed of input a to the power 3 '''\n",
    "    \n",
    "    # computing the logic of power \n",
    "    out = a ** 3\n",
    "    \n",
    "    #returning the computed valued\n",
    "    return(out)"
   ]
  },
  {
   "cell_type": "markdown",
   "id": "a2c0401f",
   "metadata": {},
   "source": [
    "# Q4. What is the difference between a function and a function call?"
   ]
  },
  {
   "cell_type": "markdown",
   "id": "00dacb7c",
   "metadata": {},
   "source": [
    "### Function"
   ]
  },
  {
   "cell_type": "markdown",
   "id": "263193ff",
   "metadata": {},
   "source": [
    "1. Definition - It is a block of code, that contains some logic according to requirements.\n",
    "2. Purpose - Helps to make codes modular. It is reusable and redundant. Large codes are maintained easily.\n",
    "3. Structure - It has keyword 'def', then name , then parenthesis(optional arguments), return value(optional).\n",
    "4. Execution - They are not executed automatically when the function is 'Defined'. It's executed when the function is called.\n",
    "\n",
    "Eg - "
   ]
  },
  {
   "cell_type": "code",
   "execution_count": 4,
   "id": "2c3935c1",
   "metadata": {},
   "outputs": [],
   "source": [
    "# Creating user defined multiplication \n",
    "def mult(a,b):\n",
    "    \n",
    "    '''a - Takes first input number\n",
    "       b - Takes second input number\n",
    "       output - Gives an output which is the result of multiplication of a and b. '''\n",
    "    \n",
    "    # Computes the output logic\n",
    "    out = a * b \n",
    "    \n",
    "    # returns the output value\n",
    "    return out\n",
    "    "
   ]
  },
  {
   "cell_type": "markdown",
   "id": "d895f5d9",
   "metadata": {},
   "source": [
    "### Function call\n",
    "\n",
    "1. Definition - Function call is an instruction to execute the particuar function. Parameters can be passed according to definition of the function.\n",
    "2. Purpose - Function call is used to invoke a function and execute its logic.\n",
    "3. Structure - A function is called using the function name and the inputs are passed in arguments inside parenthesis(if function takes arguments).\n",
    "4. Execution - When the function call is executed, it jumps to main function definition, executes the logic inside and returns the output(if value is returned).\n",
    "5. Result - The return value can be assigned to a variable or can be used in different part of code by using it's direct result.\n",
    "\n",
    "Eg-"
   ]
  },
  {
   "cell_type": "code",
   "execution_count": 5,
   "id": "80a66595",
   "metadata": {},
   "outputs": [
    {
     "data": {
      "text/plain": [
       "12"
      ]
     },
     "execution_count": 5,
     "metadata": {},
     "output_type": "execute_result"
    }
   ],
   "source": [
    "mult(3,4)"
   ]
  },
  {
   "cell_type": "markdown",
   "id": "3933565d",
   "metadata": {},
   "source": [
    "# Q5. How many global scopes are there in a Python program? How many local scopes?"
   ]
  },
  {
   "cell_type": "markdown",
   "id": "db2b8928",
   "metadata": {},
   "source": [
    "#### Their is only one global scope.\n",
    "#### The number of local scopes can vary depending on the number of functions or blocks defined in the program."
   ]
  },
  {
   "cell_type": "markdown",
   "id": "3368fbd7",
   "metadata": {},
   "source": [
    "### Local Python scope\n",
    "\n",
    "* If we assign a value to a variable inside a specific function or block, then that name will have a local Python scope.\n",
    "* This variable is accessible within that function / block.\n",
    "* Local variable is created when the particular function is executed and destroyed when it exits the function execution.\n",
    "* Other functions or blocks other than its own, can not access this variable.\n",
    "* Different functions can have same name as local variable. It won't create conflicts.\n",
    "\n",
    "Eg-"
   ]
  },
  {
   "cell_type": "code",
   "execution_count": 6,
   "id": "2716089a",
   "metadata": {},
   "outputs": [],
   "source": [
    "def local():\n",
    "    x = 10     # Local Variable\n",
    "    print(x)   # Accessible within this function\n",
    " "
   ]
  },
  {
   "cell_type": "code",
   "execution_count": 8,
   "id": "b5649e20",
   "metadata": {},
   "outputs": [
    {
     "name": "stdout",
     "output_type": "stream",
     "text": [
      "10\n"
     ]
    },
    {
     "ename": "NameError",
     "evalue": "name 'x' is not defined",
     "output_type": "error",
     "traceback": [
      "\u001b[0;31m---------------------------------------------------------------------------\u001b[0m",
      "\u001b[0;31mNameError\u001b[0m                                 Traceback (most recent call last)",
      "Cell \u001b[0;32mIn[8], line 2\u001b[0m\n\u001b[1;32m      1\u001b[0m local()\n\u001b[0;32m----> 2\u001b[0m \u001b[38;5;28mprint\u001b[39m(\u001b[43mx\u001b[49m)\n",
      "\u001b[0;31mNameError\u001b[0m: name 'x' is not defined"
     ]
    }
   ],
   "source": [
    "local()\n",
    "print(x)    # the variable x is not accessible outside the function -will generate error"
   ]
  },
  {
   "cell_type": "markdown",
   "id": "43c50382",
   "metadata": {},
   "source": [
    "### Global Python scope \n",
    "\n",
    "* If we assign a value to a name outside of all functions ( Eg - at the top level of a module), then that name will have a global Python scope.\n",
    "* It has visibilty throughout the entire code, whether it's a function, modules or blocks.\n",
    "* Global variable is created when it is defined and exists throughout the program execution.\n",
    "* Any function or block can access or modify the global variables.\n",
    "\n",
    "Eg- "
   ]
  },
  {
   "cell_type": "code",
   "execution_count": 9,
   "id": "3f6db32c",
   "metadata": {},
   "outputs": [],
   "source": [
    "x = 10   # Global variable\n",
    "\n",
    "def glob():    \n",
    "    print(x)   # accessible within the function\n",
    "      "
   ]
  },
  {
   "cell_type": "code",
   "execution_count": 10,
   "id": "8314644e",
   "metadata": {},
   "outputs": [
    {
     "name": "stdout",
     "output_type": "stream",
     "text": [
      "10\n",
      "10\n"
     ]
    }
   ],
   "source": [
    "glob()\n",
    "print(x)     # accessible outside the function"
   ]
  },
  {
   "cell_type": "code",
   "execution_count": 11,
   "id": "c8511027",
   "metadata": {},
   "outputs": [],
   "source": [
    "def modify_glob():\n",
    "    global x\n",
    "    x = 20      # Modifying the global variable"
   ]
  },
  {
   "cell_type": "code",
   "execution_count": 12,
   "id": "cba96fe8",
   "metadata": {},
   "outputs": [
    {
     "name": "stdout",
     "output_type": "stream",
     "text": [
      "20\n"
     ]
    }
   ],
   "source": [
    "modify_glob()\n",
    "print(x)        # updated value of global variable"
   ]
  },
  {
   "cell_type": "markdown",
   "id": "d680f848",
   "metadata": {},
   "source": [
    "# Q6. What happens to variables in a local scope when the function call returns?"
   ]
  },
  {
   "cell_type": "markdown",
   "id": "66c9d2ac",
   "metadata": {},
   "source": [
    "#### When the function call returns \n",
    "    - the local variables within the function are destroyed.\n",
    "    - memory occupied by these variables are deallocated.\n",
    "    - values stored in those variables are no longer available for use.\n",
    "    - It cannot be accessed from outside the function.\n",
    "    \n",
    "Eg-"
   ]
  },
  {
   "cell_type": "code",
   "execution_count": 13,
   "id": "b828b049",
   "metadata": {},
   "outputs": [],
   "source": [
    "# Creating a user defined function 'square'\n",
    "def square():\n",
    "    ''' The square value of assigned value to the input is computed and returned'''\n",
    "    a = 5            # Assigning value to a local variable\n",
    "    out = 5**2       # Computing the calculation\n",
    "    return(out)      # Returning the output value\n",
    "    "
   ]
  },
  {
   "cell_type": "code",
   "execution_count": 14,
   "id": "6b0c435d",
   "metadata": {},
   "outputs": [
    {
     "name": "stdout",
     "output_type": "stream",
     "text": [
      "25\n"
     ]
    }
   ],
   "source": [
    "# calling the function\n",
    "\n",
    "output = square()\n",
    "print(output)"
   ]
  },
  {
   "cell_type": "markdown",
   "id": "aee673fd",
   "metadata": {},
   "source": [
    "* Here variables 'a' and 'out' are created in the local scope of 'square' function. \n",
    "* When the function returns the local scope is destroyed and these variables are deallocated from memory.\n"
   ]
  },
  {
   "cell_type": "markdown",
   "id": "a131d182",
   "metadata": {},
   "source": [
    "# Q7. What is the concept of a return value? Is it possible to have a return value in an expression?"
   ]
  },
  {
   "cell_type": "markdown",
   "id": "4b9cfcdd",
   "metadata": {},
   "source": [
    "#### Return()\n",
    "* It ends the function call and returns the result to the caller(to the code it is called) after executing logics. \n",
    "* Statements after return statements are not executed. \n",
    "* Return statement can't be used outside the user defined function.\n",
    "* If there is no expression with return statement then it returns 'None'.\n",
    "* The return result can be stored in a variable or in part of code as direct result.\n",
    "\n",
    "\n",
    "#### Yes, it is possible to have a return value in an expression in Python.\n",
    "* We can directly use the return value in an expression.\n",
    "\n",
    "Eg -"
   ]
  },
  {
   "cell_type": "code",
   "execution_count": 15,
   "id": "bf136c5d",
   "metadata": {},
   "outputs": [],
   "source": [
    "# Creating user defined function named as 'multiply'\n",
    "def multiply(a,b):\n",
    "    \n",
    "    '''a - First input number for multiplication\n",
    "       b - Second input number for multiplication\n",
    "       output - It is the result of multiplication of two numbers a and b'''\n",
    "    \n",
    "    return(a*b)"
   ]
  },
  {
   "cell_type": "code",
   "execution_count": 16,
   "id": "4ee1a507",
   "metadata": {},
   "outputs": [
    {
     "name": "stdout",
     "output_type": "stream",
     "text": [
      "8\n"
     ]
    }
   ],
   "source": [
    "# Using the return value in an expression\n",
    "\n",
    "result = multiply(1,2) + multiply(2,3)\n",
    "print(result)"
   ]
  },
  {
   "cell_type": "markdown",
   "id": "eb47101c",
   "metadata": {},
   "source": [
    "# Q8. If a function does not have a return statement, what is the return value of a call to that function?"
   ]
  },
  {
   "cell_type": "markdown",
   "id": "9650bf67",
   "metadata": {},
   "source": [
    "#### If a function does not have return statement , It will return - None.\n",
    "\n",
    "* None - It represents absence of a value or the lack of meaningful result.\n",
    "\n",
    "Eg -"
   ]
  },
  {
   "cell_type": "code",
   "execution_count": 17,
   "id": "894a50f9",
   "metadata": {},
   "outputs": [],
   "source": [
    "# Creating a user defined function named 'hello'\n",
    "def hello():\n",
    "    print('Hello Everyone')"
   ]
  },
  {
   "cell_type": "code",
   "execution_count": 18,
   "id": "013eae46",
   "metadata": {},
   "outputs": [
    {
     "name": "stdout",
     "output_type": "stream",
     "text": [
      "Hello Everyone\n",
      "None\n"
     ]
    }
   ],
   "source": [
    "result = hello()\n",
    "print(result)"
   ]
  },
  {
   "cell_type": "markdown",
   "id": "bd1f769b",
   "metadata": {},
   "source": [
    "* Here the function prints 'Hello Everyone' , but if we print the result, it is of 'None' type.\n",
    "* Here function implicitly returned -'None' since there is no explicit 'return' statement."
   ]
  },
  {
   "cell_type": "markdown",
   "id": "cded991e",
   "metadata": {},
   "source": [
    "# Q9. How do you make a function variable refer to the global variable?"
   ]
  },
  {
   "cell_type": "markdown",
   "id": "ce6297f8",
   "metadata": {},
   "source": [
    "#### The Keyword - 'global' is used to make a function variable referring to global variable.\n",
    "\n",
    "Eg - "
   ]
  },
  {
   "cell_type": "code",
   "execution_count": 19,
   "id": "6c04e1d1",
   "metadata": {},
   "outputs": [],
   "source": [
    "val = 10\n",
    "\n",
    "# creating a function named 'glob_func'\n",
    "def glob_func():\n",
    "    \n",
    "    # Making the variable inside function having global scope using the keyword 'global'\n",
    "    global val\n",
    "    \n",
    "    # Access and modify the global variable\n",
    "    val = val + 5\n",
    "    print(val)\n",
    "    "
   ]
  },
  {
   "cell_type": "code",
   "execution_count": 20,
   "id": "bb3549b7",
   "metadata": {},
   "outputs": [
    {
     "name": "stdout",
     "output_type": "stream",
     "text": [
      "15\n"
     ]
    }
   ],
   "source": [
    "# Calling the function\n",
    "glob_func()"
   ]
  },
  {
   "cell_type": "markdown",
   "id": "9540093e",
   "metadata": {},
   "source": [
    "* Using 'global' keyword inside the function , indicates that variable 'val' refers to the variable 'val' defined outside the function.\n",
    "* 'global' keyword helps to modify the variable 'val' inside the function."
   ]
  },
  {
   "cell_type": "markdown",
   "id": "d9e56ab1",
   "metadata": {},
   "source": [
    "# Q10.  What is the data type of None?"
   ]
  },
  {
   "cell_type": "code",
   "execution_count": 21,
   "id": "293ed920",
   "metadata": {},
   "outputs": [
    {
     "name": "stdout",
     "output_type": "stream",
     "text": [
      "<class 'NoneType'>\n"
     ]
    }
   ],
   "source": [
    "print(type(None))"
   ]
  },
  {
   "cell_type": "markdown",
   "id": "cd8d5004",
   "metadata": {},
   "source": [
    "*  The data type of 'None' is 'NoneType'"
   ]
  },
  {
   "cell_type": "markdown",
   "id": "8ec3a88a",
   "metadata": {},
   "source": [
    "# Q11. What does the sentence import areallyourpetsnamederic do?"
   ]
  },
  {
   "cell_type": "markdown",
   "id": "fe9b68e5",
   "metadata": {},
   "source": [
    "* 'areallyourpetsnamederic' is not a python package or module and will give an error 'ModuleNotFoundError:'.\n",
    "\n",
    "Eg - "
   ]
  },
  {
   "cell_type": "code",
   "execution_count": 22,
   "id": "b7d9d244",
   "metadata": {},
   "outputs": [
    {
     "ename": "ModuleNotFoundError",
     "evalue": "No module named 'areallyourpetsnamederic'",
     "output_type": "error",
     "traceback": [
      "\u001b[0;31m---------------------------------------------------------------------------\u001b[0m",
      "\u001b[0;31mModuleNotFoundError\u001b[0m                       Traceback (most recent call last)",
      "Cell \u001b[0;32mIn[22], line 1\u001b[0m\n\u001b[0;32m----> 1\u001b[0m \u001b[38;5;28;01mimport\u001b[39;00m \u001b[38;5;21;01mareallyourpetsnamederic\u001b[39;00m\n",
      "\u001b[0;31mModuleNotFoundError\u001b[0m: No module named 'areallyourpetsnamederic'"
     ]
    }
   ],
   "source": [
    "import areallyourpetsnamederic"
   ]
  },
  {
   "cell_type": "markdown",
   "id": "bf32e118",
   "metadata": {},
   "source": [
    "# Q12. If you had a bacon() feature in a spam module, what would you call it after importing spam?"
   ]
  },
  {
   "cell_type": "markdown",
   "id": "4d8a7843",
   "metadata": {},
   "source": [
    "* first import the module 'spam'\n",
    "* Access the function using spam.bacon()\n",
    "\n",
    "Eg-\n",
    "\n",
    "import spam\n",
    "\n",
    "spam.bacon()"
   ]
  },
  {
   "cell_type": "markdown",
   "id": "e471c6ca",
   "metadata": {},
   "source": [
    "# Q13. What can you do to save a programme from crashing if it encounters an error?"
   ]
  },
  {
   "cell_type": "markdown",
   "id": "18c0b986",
   "metadata": {},
   "source": [
    "#### To save a program from crashing:\n",
    "\n",
    "- Use 'Exception Handling'\n",
    "- 'Exception Hangling' allows to catch and then handle the error, either by providing solutions or error messages.\n",
    "- It does not terminate the execution because of occurence of error.\n",
    "\n",
    "Eg - "
   ]
  },
  {
   "cell_type": "code",
   "execution_count": 23,
   "id": "d75e18a8",
   "metadata": {},
   "outputs": [
    {
     "name": "stdout",
     "output_type": "stream",
     "text": [
      "Error: cannot add an int and a str\n"
     ]
    }
   ],
   "source": [
    "x = 5\n",
    "y = \"hello\"\n",
    "try:\n",
    "    z = x + y\n",
    "except TypeError:\n",
    "    print(\"Error: cannot add an int and a str\")"
   ]
  },
  {
   "cell_type": "markdown",
   "id": "d1bb3b73",
   "metadata": {},
   "source": [
    "# Q14. What is the purpose of the try clause? What is the purpose of the except clause?"
   ]
  },
  {
   "cell_type": "markdown",
   "id": "9e25171e",
   "metadata": {},
   "source": [
    "### 'try' and 'except' is used to catch and handle the errors and exceptions that may raise during the code execution.\n",
    "\n",
    "* **try:**\n",
    "- It contains the block of code that may generate error or exception during code execution.\n",
    "\n",
    "* **except**\n",
    "- Exception is raised when the code is syntactically correct but results in an error.\n",
    "- Purpose is to handle specific exceptions raised by 'try' block.\n",
    "- 'except' clause specifies the type of exception it is going to handle.\n",
    "- In code there can be multiple 'except' clauses handling different exceptions.\n",
    "\n",
    "Syntax- "
   ]
  },
  {
   "cell_type": "markdown",
   "id": "c194b5da",
   "metadata": {},
   "source": [
    "try:\n",
    "\n",
    "    # Code that may raise an exception\n",
    "    \n",
    "    # ...\n",
    "    \n",
    "except ExceptionType1:\n",
    "\n",
    "    # Code to handle ExceptionType1\n",
    "    \n",
    "    # ...\n",
    "    \n",
    "except ExceptionType2:\n",
    "\n",
    "    # Code to handle ExceptionType2\n",
    "    \n",
    "    # ...\n",
    "    "
   ]
  },
  {
   "cell_type": "code",
   "execution_count": null,
   "id": "cd953a66",
   "metadata": {},
   "outputs": [],
   "source": []
  }
 ],
 "metadata": {
  "kernelspec": {
   "display_name": "Python 3 (ipykernel)",
   "language": "python",
   "name": "python3"
  },
  "language_info": {
   "codemirror_mode": {
    "name": "ipython",
    "version": 3
   },
   "file_extension": ".py",
   "mimetype": "text/x-python",
   "name": "python",
   "nbconvert_exporter": "python",
   "pygments_lexer": "ipython3",
   "version": "3.10.9"
  }
 },
 "nbformat": 4,
 "nbformat_minor": 5
}
