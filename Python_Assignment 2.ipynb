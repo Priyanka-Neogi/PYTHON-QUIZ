{
 "cells": [
  {
   "cell_type": "markdown",
   "id": "79cfbaef",
   "metadata": {},
   "source": [
    "# Q1 What are the two values of the Boolean data type? How do you write them?"
   ]
  },
  {
   "cell_type": "markdown",
   "id": "2c95cb24",
   "metadata": {},
   "source": [
    "* Boolean is one of Python's in-built data type.\n",
    "* The two values of Boolean data type is \n",
    "1. True\n",
    "2. False\n",
    "\n",
    "It's written - "
   ]
  },
  {
   "cell_type": "code",
   "execution_count": 41,
   "id": "cd3fe5fc",
   "metadata": {},
   "outputs": [
    {
     "name": "stdout",
     "output_type": "stream",
     "text": [
      "True\n",
      "<class 'bool'>\n"
     ]
    }
   ],
   "source": [
    "# Assigning a variable True\n",
    "a = True\n",
    "\n",
    "# Printing the variable\n",
    "print(a)\n",
    "\n",
    "# checking and printing the type of variable\n",
    "print(type(a))"
   ]
  },
  {
   "cell_type": "code",
   "execution_count": 42,
   "id": "b98cd523",
   "metadata": {},
   "outputs": [
    {
     "name": "stdout",
     "output_type": "stream",
     "text": [
      "False\n",
      "<class 'bool'>\n"
     ]
    }
   ],
   "source": [
    "# Assigning a variable True\n",
    "b = False\n",
    "\n",
    "# Printing the variable\n",
    "print(b)\n",
    "\n",
    "# checking and printing the type of variable\n",
    "print(type(b))"
   ]
  },
  {
   "cell_type": "markdown",
   "id": "ff840456",
   "metadata": {},
   "source": [
    "# Q2 What are the three different types of Boolean operators?"
   ]
  },
  {
   "cell_type": "markdown",
   "id": "48a7bd31",
   "metadata": {},
   "source": [
    "* In Python, there are three different types of Boolean operators: **and, or, not**. These operators are used to perform logical operations and evaluate Boolean expressions.\n",
    "* '1' indicates -> 'True'\n",
    "* '0' indicates -> 'False'"
   ]
  },
  {
   "cell_type": "markdown",
   "id": "8e6c9111",
   "metadata": {},
   "source": [
    "1. 'AND' Operator: \n",
    "* Returns 'True' if all the Operands are 'True'. \n",
    "* If one of the operand is 'False' it returns 'False'."
   ]
  },
  {
   "cell_type": "code",
   "execution_count": 43,
   "id": "97bcb9b6",
   "metadata": {},
   "outputs": [
    {
     "name": "stdout",
     "output_type": "stream",
     "text": [
      "False\n",
      "<class 'bool'>\n"
     ]
    }
   ],
   "source": [
    "# Assigning the variables with 'True' , 'False' respectively\n",
    "a = True\n",
    "b = False\n",
    "\n",
    "# Performing Boolean operation using 'AND'\n",
    "c = a and b\n",
    "\n",
    "# Printing the variable\n",
    "print(c)\n",
    "\n",
    "# checking and printing the type of variable\n",
    "print(type(c))"
   ]
  },
  {
   "cell_type": "markdown",
   "id": "8077e57c",
   "metadata": {},
   "source": [
    "2. 'OR' Operator\n",
    "\n",
    "* Returns 'False' if all the operands are 'False'.\n",
    "* Returns 'True' if one of the operand is 'True'."
   ]
  },
  {
   "cell_type": "code",
   "execution_count": 44,
   "id": "45f0600c",
   "metadata": {},
   "outputs": [
    {
     "name": "stdout",
     "output_type": "stream",
     "text": [
      "True\n",
      "<class 'bool'>\n"
     ]
    }
   ],
   "source": [
    "# Assigning the variables with 'True' , 'False' respectively\n",
    "a = True\n",
    "b = False\n",
    "\n",
    "# Performing Boolean operation using 'OR'\n",
    "c = a or b\n",
    "\n",
    "# Printing the variable\n",
    "print(c)\n",
    "\n",
    "# checking and printing the type of variable\n",
    "print(type(c))"
   ]
  },
  {
   "cell_type": "markdown",
   "id": "c08ee879",
   "metadata": {},
   "source": [
    "3. 'NOT' operator\n",
    "* It is a unary operator that returns the opposite of the operand's Boolean value.\n",
    "* Returns 'True' if operand is 'False' and vice-versa."
   ]
  },
  {
   "cell_type": "code",
   "execution_count": 45,
   "id": "5ace5fd2",
   "metadata": {},
   "outputs": [
    {
     "name": "stdout",
     "output_type": "stream",
     "text": [
      "False\n",
      "<class 'bool'>\n"
     ]
    }
   ],
   "source": [
    "# Assigning the variables with 'True'\n",
    "a = True\n",
    "\n",
    "# Performing Boolean operation using 'NOT'\n",
    "c = not a \n",
    "\n",
    "# Printing the variable\n",
    "print(c)\n",
    "\n",
    "# checking and printing the type of variable\n",
    "print(type(c))"
   ]
  },
  {
   "cell_type": "markdown",
   "id": "eec6c606",
   "metadata": {},
   "source": [
    "# Q3 Make a list of each Boolean operator's truth tables (i.e. every possible combination of Boolean values for the operator and what it evaluate )."
   ]
  },
  {
   "cell_type": "code",
   "execution_count": 47,
   "id": "8f2e52f1",
   "metadata": {},
   "outputs": [],
   "source": [
    "# importing library truth-table-generator\n",
    "import ttg"
   ]
  },
  {
   "cell_type": "markdown",
   "id": "4db0ef4a",
   "metadata": {},
   "source": [
    "### AND OPERATOR"
   ]
  },
  {
   "cell_type": "code",
   "execution_count": 48,
   "id": "4a26578f",
   "metadata": {},
   "outputs": [
    {
     "name": "stdout",
     "output_type": "stream",
     "text": [
      "+-----+-----+-----------+\n",
      "|  p  |  q  |  p and q  |\n",
      "|-----+-----+-----------|\n",
      "|  1  |  1  |     1     |\n",
      "|  1  |  0  |     0     |\n",
      "|  0  |  1  |     0     |\n",
      "|  0  |  0  |     0     |\n",
      "+-----+-----+-----------+\n"
     ]
    }
   ],
   "source": [
    "#'1' indicates -> 'True'\n",
    "#'0' indicates -> 'False'\n",
    "\n",
    "# Truths is a function where parameters of input combinations  and output operation is passed\n",
    "# printing the generated table for 'and' operation\n",
    "print(ttg.Truths(['p','q'],['p and q']))"
   ]
  },
  {
   "cell_type": "code",
   "execution_count": 49,
   "id": "aebf8c6f",
   "metadata": {},
   "outputs": [
    {
     "name": "stdout",
     "output_type": "stream",
     "text": [
      "[True, False, False, False]\n"
     ]
    }
   ],
   "source": [
    "# Input combinations are passed inside the list\n",
    "inp1 = [True, True, False, False]\n",
    "inp2 = [True, False, True, False]\n",
    "\n",
    "# Creating an empty list\n",
    "out = []\n",
    "\n",
    "# Creating for loop based on the index of list\n",
    "for i in range(len(inp1)):\n",
    "\n",
    "    # Performs 'And' operation\n",
    "    c = inp1[i] and inp2[i]\n",
    "    #Appending the output in the empty list\n",
    "    out.append(c)\n",
    "    \n",
    "# Printing the final output \n",
    "print(out)"
   ]
  },
  {
   "cell_type": "code",
   "execution_count": 51,
   "id": "ce19b1fe",
   "metadata": {},
   "outputs": [],
   "source": [
    "from tabulate import tabulate"
   ]
  },
  {
   "cell_type": "code",
   "execution_count": 52,
   "id": "378b6047",
   "metadata": {},
   "outputs": [],
   "source": [
    "# Creating a dictionary with input combination and ouput for 'AND' operation.\n",
    "table1 = {\n",
    "    'Input1' : [True, True, False, False], \n",
    "    'Input2' : [True, False, True, False], \n",
    "    'Output' : [True, False, False, False]\n",
    "        }"
   ]
  },
  {
   "cell_type": "code",
   "execution_count": 53,
   "id": "374c8b85",
   "metadata": {},
   "outputs": [
    {
     "name": "stdout",
     "output_type": "stream",
     "text": [
      "Input1    Input2    Output\n",
      "--------  --------  --------\n",
      "True      True      True\n",
      "True      False     False\n",
      "False     True      False\n",
      "False     False     False\n"
     ]
    }
   ],
   "source": [
    "# Printing the created table with heading as keys \n",
    "print(tabulate(table1, headers='keys'))"
   ]
  },
  {
   "cell_type": "markdown",
   "id": "8da06f4b",
   "metadata": {},
   "source": [
    "### OR OPERATOR"
   ]
  },
  {
   "cell_type": "code",
   "execution_count": 54,
   "id": "aafa6828",
   "metadata": {
    "scrolled": true
   },
   "outputs": [
    {
     "name": "stdout",
     "output_type": "stream",
     "text": [
      "+-----+-----+----------+\n",
      "|  p  |  q  |  p or q  |\n",
      "|-----+-----+----------|\n",
      "|  1  |  1  |    1     |\n",
      "|  1  |  0  |    1     |\n",
      "|  0  |  1  |    1     |\n",
      "|  0  |  0  |    0     |\n",
      "+-----+-----+----------+\n"
     ]
    }
   ],
   "source": [
    "#'1' indicates -> 'True'\n",
    "#'0' indicates -> 'False'\n",
    "\n",
    "\n",
    "# Truths is a function where parameters of input combinations  and output operation is passed\n",
    "# printing the generated table for 'or' operation\n",
    "print(ttg.Truths(['p','q'],['p or q']))"
   ]
  },
  {
   "cell_type": "code",
   "execution_count": 55,
   "id": "e004a2f3",
   "metadata": {},
   "outputs": [
    {
     "name": "stdout",
     "output_type": "stream",
     "text": [
      "[True, True, True, False]\n"
     ]
    }
   ],
   "source": [
    "# Input combinations are passed inside the list\n",
    "inp3 = [True, True, False, False]\n",
    "inp4 = [True, False, True, False]\n",
    "\n",
    "# Creating for list based on the index of list\n",
    "out1 = []\n",
    "\n",
    "# Creating for loop based on the index of list\n",
    "for i in range(len(inp3)):\n",
    "\n",
    "    # Performs 'OR' operation\n",
    "    c = inp3[i] or inp4[i]\n",
    "    #Appending the output in the empty list\n",
    "    out1.append(c)\n",
    "    \n",
    "# Printing the final output \n",
    "print(out1)"
   ]
  },
  {
   "cell_type": "code",
   "execution_count": 56,
   "id": "5cd1c59e",
   "metadata": {},
   "outputs": [],
   "source": [
    "# Creating a dictionary with input combination and ouput for 'OR' operation.\n",
    "table2 = {\n",
    "    'Input1' : [True, True, False, False], \n",
    "    'Input2' : [True, False, True, False], \n",
    "    'Output' : [True, True, True, False]\n",
    "        }"
   ]
  },
  {
   "cell_type": "code",
   "execution_count": 57,
   "id": "51815a57",
   "metadata": {},
   "outputs": [
    {
     "name": "stdout",
     "output_type": "stream",
     "text": [
      "Input1    Input2    Output\n",
      "--------  --------  --------\n",
      "True      True      True\n",
      "True      False     True\n",
      "False     True      True\n",
      "False     False     False\n"
     ]
    }
   ],
   "source": [
    "# Printing the created table with heading as keys \n",
    "print(tabulate(table2, headers='keys'))"
   ]
  },
  {
   "cell_type": "markdown",
   "id": "05a88750",
   "metadata": {},
   "source": [
    "### NOT OPERATOR"
   ]
  },
  {
   "cell_type": "code",
   "execution_count": 58,
   "id": "23f27616",
   "metadata": {},
   "outputs": [
    {
     "name": "stdout",
     "output_type": "stream",
     "text": [
      "+-----+---------+\n",
      "|  p  |  not p  |\n",
      "|-----+---------|\n",
      "|  1  |    0    |\n",
      "|  0  |    1    |\n",
      "+-----+---------+\n"
     ]
    }
   ],
   "source": [
    "#'1' indicates -> 'True'\n",
    "#'0' indicates -> 'False'\n",
    "\n",
    "# Truths is a function where parameters of input combinations  and output operation is passed\n",
    "# printing the generated table for 'or' operation\n",
    "print(ttg.Truths(['p'],['not p']))"
   ]
  },
  {
   "cell_type": "code",
   "execution_count": 59,
   "id": "557e0a4e",
   "metadata": {},
   "outputs": [
    {
     "name": "stdout",
     "output_type": "stream",
     "text": [
      "[False, True]\n"
     ]
    }
   ],
   "source": [
    "# Input combinations are passed inside the list\n",
    "inp5 = [True, False]\n",
    "\n",
    "# Creating for list based on the index of list\n",
    "out2 = []\n",
    "\n",
    "# Creating for loop based on the index of list\n",
    "for i in range(len(inp5)):\n",
    "\n",
    "    # Performs 'NoT' operation\n",
    "    c = not inp5[i] \n",
    "    #Appending the output in the empty list\n",
    "    out2.append(c)\n",
    "    \n",
    "# Printing the final output \n",
    "print(out2)"
   ]
  },
  {
   "cell_type": "code",
   "execution_count": 60,
   "id": "f8528e81",
   "metadata": {},
   "outputs": [],
   "source": [
    "# Creating a dictionary with input combination and ouput for 'NOT' operation.\n",
    "table3 = {\n",
    "    'Input1' : [True, False], \n",
    "    'Output' : [False, True]\n",
    "        }"
   ]
  },
  {
   "cell_type": "code",
   "execution_count": 61,
   "id": "ff2ad675",
   "metadata": {},
   "outputs": [
    {
     "name": "stdout",
     "output_type": "stream",
     "text": [
      "Input1    Output\n",
      "--------  --------\n",
      "True      False\n",
      "False     True\n"
     ]
    }
   ],
   "source": [
    "# Printing the created table with heading as keys \n",
    "print(tabulate(table3, headers='keys'))"
   ]
  },
  {
   "cell_type": "markdown",
   "id": "4dc52258",
   "metadata": {},
   "source": [
    "# Q4 What are the values of the following expressions?\n",
    "* (5 > 4) and (3 == 5)\n",
    "\n",
    "* not (5 > 4)\n",
    "\n",
    "* (5 > 4) or (3 == 5)\n",
    "\n",
    "* not ((5 > 4) or (3 == 5))\n",
    "\n",
    "* (True and True) and (True == False)\n",
    "\n",
    "* (not False) or (not True)\n"
   ]
  },
  {
   "cell_type": "markdown",
   "id": "54c4e108",
   "metadata": {},
   "source": [
    "1. (5 > 4) and (3 == 5)\n",
    "\n",
    "* True and False\n",
    "\n",
    "Ans - False"
   ]
  },
  {
   "cell_type": "code",
   "execution_count": 62,
   "id": "72d15476",
   "metadata": {},
   "outputs": [
    {
     "data": {
      "text/plain": [
       "False"
      ]
     },
     "execution_count": 62,
     "metadata": {},
     "output_type": "execute_result"
    }
   ],
   "source": [
    "(5 > 4) and (3 == 5)"
   ]
  },
  {
   "cell_type": "markdown",
   "id": "beb0a43f",
   "metadata": {},
   "source": [
    "2. not (5 > 4)\n",
    "\n",
    "* Not(True)\n",
    "\n",
    "Ans -> False"
   ]
  },
  {
   "cell_type": "code",
   "execution_count": 63,
   "id": "e6c6ecc3",
   "metadata": {},
   "outputs": [
    {
     "data": {
      "text/plain": [
       "False"
      ]
     },
     "execution_count": 63,
     "metadata": {},
     "output_type": "execute_result"
    }
   ],
   "source": [
    "not (5 > 4)"
   ]
  },
  {
   "cell_type": "markdown",
   "id": "170a34b2",
   "metadata": {},
   "source": [
    "3. (5 > 4) or (3 == 5)\n",
    "\n",
    "* True or False\n",
    "\n",
    "Ans -> True"
   ]
  },
  {
   "cell_type": "code",
   "execution_count": 64,
   "id": "5d662682",
   "metadata": {},
   "outputs": [
    {
     "data": {
      "text/plain": [
       "True"
      ]
     },
     "execution_count": 64,
     "metadata": {},
     "output_type": "execute_result"
    }
   ],
   "source": [
    "(5 > 4) or (3 == 5)"
   ]
  },
  {
   "cell_type": "markdown",
   "id": "111b7a3e",
   "metadata": {},
   "source": [
    "4. not ((5 > 4) or (3 == 5))\n",
    "\n",
    "* not( True or False)\n",
    "* not( True)\n",
    "\n",
    "Ans -> False"
   ]
  },
  {
   "cell_type": "code",
   "execution_count": 65,
   "id": "5f8c714c",
   "metadata": {},
   "outputs": [
    {
     "data": {
      "text/plain": [
       "False"
      ]
     },
     "execution_count": 65,
     "metadata": {},
     "output_type": "execute_result"
    }
   ],
   "source": [
    "not ((5 > 4) or (3 == 5))"
   ]
  },
  {
   "cell_type": "markdown",
   "id": "e5b103bd",
   "metadata": {},
   "source": [
    "5. ((True and True) and (True == False))\n",
    "\n",
    "* True and False\n",
    "\n",
    "Ans -> False"
   ]
  },
  {
   "cell_type": "code",
   "execution_count": 67,
   "id": "9e291019",
   "metadata": {},
   "outputs": [
    {
     "data": {
      "text/plain": [
       "False"
      ]
     },
     "execution_count": 67,
     "metadata": {},
     "output_type": "execute_result"
    }
   ],
   "source": [
    "((True and True) and (True == False))"
   ]
  },
  {
   "cell_type": "markdown",
   "id": "3e30fb6d",
   "metadata": {},
   "source": [
    "6. (not False) or (not True)\n",
    "\n",
    "* True or False\n",
    "\n",
    "Ans -> True"
   ]
  },
  {
   "cell_type": "code",
   "execution_count": 68,
   "id": "bbd783da",
   "metadata": {},
   "outputs": [
    {
     "data": {
      "text/plain": [
       "True"
      ]
     },
     "execution_count": 68,
     "metadata": {},
     "output_type": "execute_result"
    }
   ],
   "source": [
    "(not False) or (not True)"
   ]
  },
  {
   "cell_type": "markdown",
   "id": "1ad13195",
   "metadata": {},
   "source": [
    "# Q5 What are the six comparison operators?"
   ]
  },
  {
   "cell_type": "markdown",
   "id": "da51e5d6",
   "metadata": {},
   "source": [
    "**Comparison operators are used to compare two values:**\n",
    "* Python 6 Comparision Operators:\n",
    "\n",
    "1. Equal ==\n",
    "2. Not Equal !=\n",
    "3. Greater than  >\n",
    "4. Lesser than.  <\n",
    "5. Greater than or Equal to   >=\n",
    "6. lesser than or Equal to.  <="
   ]
  },
  {
   "cell_type": "markdown",
   "id": "d7c3b526",
   "metadata": {},
   "source": [
    "# Q6 How do you tell the difference between the equal to and assignment operators?Describe a condition and when you would use one."
   ]
  },
  {
   "cell_type": "markdown",
   "id": "78729ff2",
   "metadata": {},
   "source": [
    "**Assignment Operator ( = )**\n",
    "\n",
    "* It is an assignment operator, which means that it assigns a value to a variable.\n",
    " \n",
    " The following code will store a value of 5 in the variable x"
   ]
  },
  {
   "cell_type": "code",
   "execution_count": 3,
   "id": "4179336a",
   "metadata": {},
   "outputs": [
    {
     "name": "stdout",
     "output_type": "stream",
     "text": [
      "5\n"
     ]
    }
   ],
   "source": [
    "x = 5\n",
    "print(x)"
   ]
  },
  {
   "cell_type": "markdown",
   "id": "681ebd1e",
   "metadata": {},
   "source": [
    "**Equality Operator (==)**\n",
    "\n",
    "* The equality operator is one of the many comparison operators that are used in logical and conditional statements.\n",
    "\n",
    "* The equality operator returns true or false based on whether the operands (the values being compared) are equal.\n",
    "\n"
   ]
  },
  {
   "cell_type": "code",
   "execution_count": 4,
   "id": "f673e8bc",
   "metadata": {},
   "outputs": [
    {
     "data": {
      "text/plain": [
       "True"
      ]
     },
     "execution_count": 4,
     "metadata": {},
     "output_type": "execute_result"
    }
   ],
   "source": [
    "'python' == 'python'"
   ]
  },
  {
   "cell_type": "code",
   "execution_count": 5,
   "id": "8444411a",
   "metadata": {},
   "outputs": [
    {
     "data": {
      "text/plain": [
       "False"
      ]
     },
     "execution_count": 5,
     "metadata": {},
     "output_type": "execute_result"
    }
   ],
   "source": [
    "5 == 6"
   ]
  },
  {
   "cell_type": "markdown",
   "id": "0df1434c",
   "metadata": {},
   "source": [
    "# Q7 Identify the three blocks in this code:\n",
    "spam = 0\n",
    "\n",
    "if spam == 10:\n",
    "\n",
    "print('eggs')\n",
    "\n",
    "if spam > 5:\n",
    "\n",
    "print('bacon')\n",
    "\n",
    "else:\n",
    "\n",
    "print('ham')\n",
    "\n",
    "print('spam')\n",
    "\n",
    "print('spam')\n"
   ]
  },
  {
   "cell_type": "markdown",
   "id": "3a40c362",
   "metadata": {},
   "source": [
    "**Indentation is used to define a block of code in python**"
   ]
  },
  {
   "cell_type": "code",
   "execution_count": 6,
   "id": "52a104e7",
   "metadata": {},
   "outputs": [
    {
     "name": "stdout",
     "output_type": "stream",
     "text": [
      "ham\n",
      "spam\n",
      "spam\n"
     ]
    }
   ],
   "source": [
    "spam = 0\n",
    "\n",
    "# First Block of code\n",
    "if spam == 10:\n",
    "    print('eggs')\n",
    "    \n",
    "# Second Block of code\n",
    "if spam > 5:\n",
    "    print('bacon')\n",
    "    \n",
    "# Third Block of code\n",
    "else:\n",
    "    print('ham')\n",
    "    print('spam')\n",
    "    print('spam')"
   ]
  },
  {
   "cell_type": "markdown",
   "id": "be18b749",
   "metadata": {},
   "source": [
    "# Q8 Write code that prints Hello if 1 is stored in spam, prints Howdy if 2 is stored in spam, and prints Greetings! if anything else is stored in spam."
   ]
  },
  {
   "cell_type": "code",
   "execution_count": 7,
   "id": "6315bd69",
   "metadata": {},
   "outputs": [
    {
     "name": "stdout",
     "output_type": "stream",
     "text": [
      "Please Enter (1/ 2/ Your Choice) : 3\n",
      "Greetings!\n"
     ]
    }
   ],
   "source": [
    "#Taking choice from user through input function\n",
    "spam = input(\"Please Enter (1/ 2/ Your Choice) : \")\n",
    "\n",
    "#Conditional Statements : If the particular cndition is satisfied that block of code will be printed\n",
    "if spam == '1':\n",
    "    print('Hello')\n",
    "    \n",
    "elif spam == '2':\n",
    "    print('Howdy')\n",
    "\n",
    "else:\n",
    "    print('Greetings!')\n",
    "    "
   ]
  },
  {
   "cell_type": "code",
   "execution_count": 8,
   "id": "865a6c8c",
   "metadata": {},
   "outputs": [
    {
     "name": "stdout",
     "output_type": "stream",
     "text": [
      "Please Enter (1/ 2/ Your Choice) : 2\n",
      "Howdy\n"
     ]
    }
   ],
   "source": [
    "#Taking choice from user through input function\n",
    "spam = input(\"Please Enter (1/ 2/ Your Choice) : \")\n",
    "\n",
    "#Conditional Statements : If the particular cndition is satisfied that block of code will be printed\n",
    "if spam == '1':\n",
    "    print('Hello')\n",
    "    \n",
    "elif spam == '2':\n",
    "    print('Howdy')\n",
    "\n",
    "else:\n",
    "    print('Greetings!')"
   ]
  },
  {
   "cell_type": "markdown",
   "id": "9affa0b3",
   "metadata": {},
   "source": [
    "# Q9 If your programme is stuck in an endless loop, what keys you’ll press?"
   ]
  },
  {
   "cell_type": "markdown",
   "id": "6bcd6844",
   "metadata": {},
   "source": [
    "* To stop the program, we will need to interrupt the loop manually by pressing CTRL + C."
   ]
  },
  {
   "cell_type": "markdown",
   "id": "d1caa448",
   "metadata": {},
   "source": [
    "# Q10 How can you tell the difference between break and continue?"
   ]
  },
  {
   "cell_type": "markdown",
   "id": "496706e9",
   "metadata": {},
   "source": [
    "**Break Statement**\n",
    "\n",
    "* A break statement is used to terminate the loop whenever a particular condition is satisfied.\n",
    "* The break statement will end the innermost loop if it is contained within a nested loop.\n",
    "* It is used to end the loop that it is enclosed in, such as a do-while, while, switch, and for statement."
   ]
  },
  {
   "cell_type": "code",
   "execution_count": 1,
   "id": "1b3f113b",
   "metadata": {},
   "outputs": [
    {
     "name": "stdout",
     "output_type": "stream",
     "text": [
      "P\n",
      "y\n",
      "Over\n"
     ]
    }
   ],
   "source": [
    "# Using for loop to extarct each value in the string\n",
    "for char in \"Python\":\n",
    "    \n",
    "    # checking the equality\n",
    "    if char == \"t\":\n",
    "        break           # Break out from the loop if the condition satisfies\n",
    "    print(char)         # Keeps printing until break condition is not fulfilled\n",
    "\n",
    "print(\"Over\")"
   ]
  },
  {
   "cell_type": "markdown",
   "id": "8f6cb6b7",
   "metadata": {},
   "source": [
    "**Continue Statement**\n",
    "\n",
    "* The continue statement skips the remaining lines of code, for the current iteration of the loop.\n",
    "* In this case, the loop does not end, it continues with the next iteration."
   ]
  },
  {
   "cell_type": "code",
   "execution_count": 2,
   "id": "1d03d9e5",
   "metadata": {},
   "outputs": [
    {
     "name": "stdout",
     "output_type": "stream",
     "text": [
      "P\n",
      "y\n",
      "h\n",
      "o\n",
      "n\n"
     ]
    }
   ],
   "source": [
    "# Using for loop to extarct each value in the string\n",
    "for char in \"Python\":\n",
    "    \n",
    "    # checking the equality\n",
    "    if char == \"t\":\n",
    "        continue       # if the condition is satisfied it leaves current iteration of the loop\n",
    "    print(char)        # Keeps printing the loop for next iteration"
   ]
  },
  {
   "cell_type": "markdown",
   "id": "de37d25b",
   "metadata": {},
   "source": [
    "# Q11 . In a for loop, what is the difference between range(10), range(0, 10), and range(0, 10, 1)?"
   ]
  },
  {
   "cell_type": "markdown",
   "id": "39634603",
   "metadata": {},
   "source": [
    "**There is no difference between range(10), range(0, 10), and range(0, 10, 1)**"
   ]
  },
  {
   "cell_type": "code",
   "execution_count": 13,
   "id": "dc069e20",
   "metadata": {},
   "outputs": [
    {
     "name": "stdout",
     "output_type": "stream",
     "text": [
      "0\n",
      "1\n",
      "2\n",
      "3\n",
      "4\n",
      "5\n",
      "6\n",
      "7\n",
      "8\n",
      "9\n"
     ]
    }
   ],
   "source": [
    "for i in range(10):\n",
    "    print(i)"
   ]
  },
  {
   "cell_type": "markdown",
   "id": "2f2a73e9",
   "metadata": {},
   "source": [
    "* The i starts from 0,1... to i-1 if 'i' is the range value."
   ]
  },
  {
   "cell_type": "code",
   "execution_count": 14,
   "id": "b1c0364a",
   "metadata": {},
   "outputs": [
    {
     "name": "stdout",
     "output_type": "stream",
     "text": [
      "0\n",
      "1\n",
      "2\n",
      "3\n",
      "4\n",
      "5\n",
      "6\n",
      "7\n",
      "8\n",
      "9\n"
     ]
    }
   ],
   "source": [
    "for i in range(0,10):\n",
    "    print(i)"
   ]
  },
  {
   "cell_type": "markdown",
   "id": "77a3e79a",
   "metadata": {},
   "source": [
    "The i starts from 0,1... to i-1 if 'i' is the range value. Here start and stop value is given."
   ]
  },
  {
   "cell_type": "code",
   "execution_count": 15,
   "id": "0edeb0a0",
   "metadata": {},
   "outputs": [
    {
     "name": "stdout",
     "output_type": "stream",
     "text": [
      "0\n",
      "1\n",
      "2\n",
      "3\n",
      "4\n",
      "5\n",
      "6\n",
      "7\n",
      "8\n",
      "9\n"
     ]
    }
   ],
   "source": [
    "for i in range(0,10, 1):\n",
    "    print(i)"
   ]
  },
  {
   "cell_type": "markdown",
   "id": "440ca6bf",
   "metadata": {},
   "source": [
    "The i starts from 0,1... to i-1 if 'i' is the range value. Here start, stop, step size is given."
   ]
  },
  {
   "cell_type": "markdown",
   "id": "d8b64af4",
   "metadata": {},
   "source": [
    "# Q12 Write a short program that prints the numbers 1 to 10 using a for loop. Then write an equivalent program that prints the numbers 1 to 10 using a while loop."
   ]
  },
  {
   "cell_type": "code",
   "execution_count": 16,
   "id": "fb2e934a",
   "metadata": {},
   "outputs": [
    {
     "name": "stdout",
     "output_type": "stream",
     "text": [
      "1\n",
      "2\n",
      "3\n",
      "4\n",
      "5\n",
      "6\n",
      "7\n",
      "8\n",
      "9\n",
      "10\n"
     ]
    }
   ],
   "source": [
    "# Using For loop\n",
    "\n",
    "for i in range(1,11):\n",
    "    print(i)"
   ]
  },
  {
   "cell_type": "code",
   "execution_count": 3,
   "id": "2ee6598e",
   "metadata": {
    "scrolled": false
   },
   "outputs": [
    {
     "name": "stdout",
     "output_type": "stream",
     "text": [
      "1\n",
      "2\n",
      "3\n",
      "4\n",
      "5\n",
      "6\n",
      "7\n",
      "8\n",
      "9\n",
      "10\n"
     ]
    }
   ],
   "source": [
    "# Using while loop \n",
    "\n",
    "i = 1      # Intialising the starting value to 1\n",
    "\n",
    "# Giving a condition to while loop . It executes till the condition is true\n",
    "while i <= 10:\n",
    "    \n",
    "    print(i)\n",
    "    i += 1     # Increments the value of i by 1 after each iteration"
   ]
  },
  {
   "cell_type": "markdown",
   "id": "2125d73f",
   "metadata": {},
   "source": [
    "# Q13 If you had a function named bacon() inside a module named spam, how would you call it after importing spam?"
   ]
  },
  {
   "cell_type": "markdown",
   "id": "25d6bac0",
   "metadata": {},
   "source": [
    "* Method 1 :\n",
    "\n",
    "import spam\n",
    "\n",
    "a = spam.bacon()"
   ]
  },
  {
   "cell_type": "markdown",
   "id": "4dc1189e",
   "metadata": {},
   "source": [
    "* Method 2 :\n",
    "\n",
    "from spam import bacon\n",
    "\n",
    "a = bacon()"
   ]
  },
  {
   "cell_type": "code",
   "execution_count": null,
   "id": "b1eba990",
   "metadata": {},
   "outputs": [],
   "source": []
  }
 ],
 "metadata": {
  "kernelspec": {
   "display_name": "Python 3 (ipykernel)",
   "language": "python",
   "name": "python3"
  },
  "language_info": {
   "codemirror_mode": {
    "name": "ipython",
    "version": 3
   },
   "file_extension": ".py",
   "mimetype": "text/x-python",
   "name": "python",
   "nbconvert_exporter": "python",
   "pygments_lexer": "ipython3",
   "version": "3.10.9"
  }
 },
 "nbformat": 4,
 "nbformat_minor": 5
}
